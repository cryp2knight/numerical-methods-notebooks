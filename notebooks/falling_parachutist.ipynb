{
 "cells": [
  {
   "cell_type": "markdown",
   "metadata": {},
   "source": [
    "# Falling Parachutist Problem\n",
    "***\n",
    "\n",
    "\n",
    "### Analytical Solution\n",
    "****\n",
    "$$ v(t) = \\frac{gm}{c}(1-e^{\\frac{-c}{m}t}) $$\n",
    "\n",
    "<center>Eq. 1.10</center>\n",
    "\n",
    "\n",
    "**Problem Statement**. A parachutist of mass $68.1 kg$ jumps out of a stationary hot air balloon. Use $Eq. (1.10)$ to compute velocity prior to opening the chute. The drag coefficient is equal to $12.5 kg/s$.\n",
    "\n",
    "**Solution**. Inserting the parameters into $Eq. (1.10)$ yields\n",
    "\n",
    "$$ v(t)=\\frac{9.81(68.1)}{12.5}(1-e^{(-\\frac{12.5}{68.1})t}) = 53.44(1-e^{-0.18355t}) $$"
   ]
  },
  {
   "cell_type": "code",
   "execution_count": 2,
   "metadata": {},
   "outputs": [
    {
     "data": {
      "text/plain": [
       "16.42172057920007"
      ]
     },
     "execution_count": 2,
     "metadata": {},
     "output_type": "execute_result"
    }
   ],
   "source": [
    "import math\n",
    "\n",
    "GRAVITY = 9.81\n",
    "mass = 68.1\n",
    "drag_coefficient = 12.5\n",
    "\n",
    "def velocity(t):\n",
    "    x = (-drag_coefficient/mass)*t\n",
    "    return ((GRAVITY*mass)/drag_coefficient)*(1-math.pow(math.e, x))\n",
    "\n",
    "velocity(2)"
   ]
  },
  {
   "cell_type": "code",
   "execution_count": 3,
   "metadata": {},
   "outputs": [
    {
     "data": {
      "text/html": [
       "<div>\n",
       "<style scoped>\n",
       "    .dataframe tbody tr th:only-of-type {\n",
       "        vertical-align: middle;\n",
       "    }\n",
       "\n",
       "    .dataframe tbody tr th {\n",
       "        vertical-align: top;\n",
       "    }\n",
       "\n",
       "    .dataframe thead th {\n",
       "        text-align: right;\n",
       "    }\n",
       "</style>\n",
       "<table border=\"1\" class=\"dataframe\">\n",
       "  <thead>\n",
       "    <tr style=\"text-align: right;\">\n",
       "      <th></th>\n",
       "      <th>v(t)</th>\n",
       "    </tr>\n",
       "  </thead>\n",
       "  <tbody>\n",
       "    <tr>\n",
       "      <th>0</th>\n",
       "      <td>0.000000</td>\n",
       "    </tr>\n",
       "    <tr>\n",
       "      <th>1</th>\n",
       "      <td>8.962318</td>\n",
       "    </tr>\n",
       "    <tr>\n",
       "      <th>2</th>\n",
       "      <td>16.421721</td>\n",
       "    </tr>\n",
       "    <tr>\n",
       "      <th>3</th>\n",
       "      <td>22.630235</td>\n",
       "    </tr>\n",
       "    <tr>\n",
       "      <th>4</th>\n",
       "      <td>27.797627</td>\n",
       "    </tr>\n",
       "  </tbody>\n",
       "</table>\n",
       "</div>"
      ],
      "text/plain": [
       "        v(t)\n",
       "0   0.000000\n",
       "1   8.962318\n",
       "2  16.421721\n",
       "3  22.630235\n",
       "4  27.797627"
      ]
     },
     "execution_count": 3,
     "metadata": {},
     "output_type": "execute_result"
    }
   ],
   "source": [
    "import pandas as pd\n",
    "df = pd.DataFrame(map(velocity, range(25)),columns=['v(t)'])\n",
    "df.head()"
   ]
  },
  {
   "cell_type": "code",
   "execution_count": 4,
   "metadata": {},
   "outputs": [
    {
     "data": {
      "image/png": "[encoded data removed]",
      "text/plain": [
       "<Figure size 432x288 with 1 Axes>"
      ]
     },
     "metadata": {
      "needs_background": "light"
     },
     "output_type": "display_data"
    }
   ],
   "source": [
    "import matplotlib.pyplot as plt\n",
    "plt.plot(df, label=\"value\")\n",
    "plt.xlabel('t,s')\n",
    "plt.ylabel('v(t),m/s')\n",
    "# plt.axhline(y=df['v(t)'].iat[-1], color='r', linestyle='-') # terminal value\n",
    "plt.axhline(y=velocity(1000), color='r', linestyle='--', label=\"terminal velocity\") # terminal velocity at 1000s \n",
    "plt.show()"
   ]
  },
  {
   "cell_type": "markdown",
   "metadata": {},
   "source": [
    "According to the model, the parachutist accelerates rapidly. A velocity of $44.92 m/s$ is attained after $10s$. Note also that after a sufficiently long time, a constant velocity, called the *terminal velocity*, of $53.44 m/s$ is reached. This velocity is constant because, eventually, the force of gravity will be in balance with the air resistance. Thus, the net\n",
    "force is zero and acceleration has ceased."
   ]
  },
  {
   "cell_type": "markdown",
   "metadata": {},
   "source": [
    "### Numerical Solution\n",
    "****\n",
    "\n",
    "$Equation (1.10)$ is called an *analytical, or exact, solution* because it exactly satisfies\n",
    "the original differential equation. Unfortunately, there are many mathematical models\n",
    "that cannot be solved exactly. In many of these cases, the only alternative is to develop\n",
    "a numerical solution that approximates the exact solution.\n",
    "\n",
    "*Numerical methods* are those in which the mathematical\n",
    "problem is reformulated so it can be solved by arithmetic operations.\n",
    "\n",
    "**Euler Method**. We could solve eq. 1.10 by using numerical approach called Euler's method,\n",
    "\n",
    "$$v_{i+1}=v_{i}+\\frac{dv_{i}}{dt}\\Delta{t}$$\n",
    "\n",
    "or $$ New value = old value + slope \\times step size $$\n",
    "*****\n",
    "\n",
    "$$ v(t_{i+1}) = v(t_{i})+\\left[g-\\frac{c}{m}v(t_{i})\\right](t_{i+1} - t_{i}) $$\n",
    "\n",
    "<center>Eq. 1.12</center>\n",
    "\n",
    "**Problem Statement**. Perform the same computation as in the first example but use $Eq. (1.12)$ to compute the velocity. Employ a step size of $2s$ for the calculation.\n",
    "\n",
    "**Solution**. At the start of the computation $(t_{i}=0)$, the velocity of the parachutist is zero. Using this information and the parameter values from Example 1.1, Eq. (1.12) can be used to compute velocity at $t_{i+1}=2s$:\n",
    "\n",
    "$$ v = 0+\\left[9.81-\\frac{12.5}{68.1}(0)\\right](2) = 19.62 m/s $$\n",
    "\n",
    "For the next interval (from $t=2$ to $4s$), the computation is repeated, with the result\n",
    "\n",
    "$$ v = 19.62+\\left[9.81-\\frac{12.5}{68.1}(19.62)\\right](2) = 32.04 m/s $$\n"
   ]
  },
  {
   "cell_type": "code",
   "execution_count": 5,
   "metadata": {},
   "outputs": [
    {
     "data": {
      "text/plain": [
       "{0: 0,\n",
       " 2: 19.62,\n",
       " 4: 32.037356828193836,\n",
       " 6: 39.89621261813736,\n",
       " 8: 44.87002590075947,\n",
       " 10: 48.01791653924718,\n",
       " 12: 50.01019387432531,\n",
       " 14: 51.2710918646611,\n",
       " 16: 52.069105130204015,\n",
       " 18: 52.574161984020456,\n",
       " 20: 52.89380883276478,\n",
       " 22: 53.09611102337976,\n",
       " 24: 53.22414662419483}"
      ]
     },
     "execution_count": 5,
     "metadata": {},
     "output_type": "execute_result"
    }
   ],
   "source": [
    "vals = {} #actual values from step to given t*step\n",
    "dp = {} #for dynamic programming memoization\n",
    "def velocity_numerical(i, step):\n",
    "    \"\"\"\n",
    "    if youre looking for the exact value at specific time t pls\n",
    "    use the function velocity_at(t) that returns the vals[int(i/step)]\n",
    "    note that the i in this function is the number of iterations\n",
    "    and the step is the time interval\n",
    "    \"\"\"\n",
    "    if i in dp:\n",
    "        return dp[i]\n",
    "    if i == 0:\n",
    "        vals[0] = 0\n",
    "        return 0\n",
    "    else:\n",
    "        vn = velocity_numerical(i-1, step)+(GRAVITY - drag_coefficient/mass*velocity_numerical(i-1, step))*step\n",
    "        dp[i] = vn\n",
    "        vals[step*i] = vn\n",
    "        return vn\n",
    "\n",
    "def velocity_at(t, step=2):\n",
    "    velocity_numerical(t, step)\n",
    "    return vals[t]\n",
    "\n",
    "velocity_at(12, step=2) # returns the velocity at t=10s at 2 seconds interval\n",
    "\n",
    "vals"
   ]
  },
  {
   "cell_type": "code",
   "execution_count": 5,
   "metadata": {},
   "outputs": [
    {
     "data": {
      "text/html": [
       "<div>\n",
       "<style scoped>\n",
       "    .dataframe tbody tr th:only-of-type {\n",
       "        vertical-align: middle;\n",
       "    }\n",
       "\n",
       "    .dataframe tbody tr th {\n",
       "        vertical-align: top;\n",
       "    }\n",
       "\n",
       "    .dataframe thead th {\n",
       "        text-align: right;\n",
       "    }\n",
       "</style>\n",
       "<table border=\"1\" class=\"dataframe\">\n",
       "  <thead>\n",
       "    <tr style=\"text-align: right;\">\n",
       "      <th></th>\n",
       "      <th>t,s</th>\n",
       "      <th>v,m/s</th>\n",
       "    </tr>\n",
       "  </thead>\n",
       "  <tbody>\n",
       "    <tr>\n",
       "      <th>0</th>\n",
       "      <td>0</td>\n",
       "      <td>0.000000</td>\n",
       "    </tr>\n",
       "    <tr>\n",
       "      <th>1</th>\n",
       "      <td>2</td>\n",
       "      <td>19.620000</td>\n",
       "    </tr>\n",
       "    <tr>\n",
       "      <th>2</th>\n",
       "      <td>4</td>\n",
       "      <td>32.037357</td>\n",
       "    </tr>\n",
       "    <tr>\n",
       "      <th>3</th>\n",
       "      <td>6</td>\n",
       "      <td>39.896213</td>\n",
       "    </tr>\n",
       "    <tr>\n",
       "      <th>4</th>\n",
       "      <td>8</td>\n",
       "      <td>44.870026</td>\n",
       "    </tr>\n",
       "  </tbody>\n",
       "</table>\n",
       "</div>"
      ],
      "text/plain": [
       "   t,s      v,m/s\n",
       "0    0   0.000000\n",
       "1    2  19.620000\n",
       "2    4  32.037357\n",
       "3    6  39.896213\n",
       "4    8  44.870026"
      ]
     },
     "execution_count": 5,
     "metadata": {},
     "output_type": "execute_result"
    }
   ],
   "source": [
    "import pandas as pd\n",
    "df_numerical = pd.DataFrame(list(vals.items()),columns=['t,s','v,m/s'])\n",
    "df_numerical.head()"
   ]
  },
  {
   "cell_type": "code",
   "execution_count": 6,
   "metadata": {},
   "outputs": [
    {
     "data": {
      "image/png": "[encoded data removed]",
      "text/plain": [
       "<Figure size 432x288 with 1 Axes>"
      ]
     },
     "metadata": {
      "needs_background": "light"
     },
     "output_type": "display_data"
    }
   ],
   "source": [
    "import matplotlib.pyplot as plt\n",
    "plt.plot(df, label=\"value\")\n",
    "plt.xlabel('t,s')\n",
    "plt.ylabel('v(t),m/s')\n",
    "plt.plot(df_numerical['t,s'],df_numerical['v,m/s'])\n",
    "plt.scatter(df_numerical['t,s'],df_numerical['v,m/s'])\n",
    "plt.axhline(y=velocity(1000), color='r', linestyle='--', label=\"terminal velocity\") # terminal velocity at 1000s \n",
    "plt.show()"
   ]
  },
  {
   "cell_type": "markdown",
   "metadata": {},
   "source": [
    "The results are plotted along with the exact solution. It can be seen that\n",
    "the numerical method captures the essential features of the exact solution. However, because we have employed straight-line segments to approximate a continuously curving\n",
    "function, there is some discrepancy between the two results. One way to minimize such\n",
    "discrepancies is to use a smaller step size. For example, applying $Eq. (1.12)$ at $ls$ intervals\n",
    "results in a smaller error, as the straight-line segments track closer to the true solution.\n",
    "Using hand calculations, the effort associated with using smaller and smaller step sizes\n",
    "would make such numerical solutions impractical. However, with the aid of the computer,\n",
    "large numbers of calculations can be performed easily. Thus, you can accurately model the\n",
    "velocity of the falling parachutist without having to solve the differential equation exactly"
   ]
  },
  {
   "cell_type": "markdown",
   "metadata": {},
   "source": [
    "### Reference:\n",
    "\n",
    "Chapra, S. C., & Canale, R. P. (2015). *Numerical Methods for Engineers* (7th ed.). New York: McGraw-Hill Education.\n"
   ]
  }
 ],
 "metadata": {
  "kernelspec": {
   "display_name": "Python 3",
   "language": "python",
   "name": "python3"
  },
  "language_info": {
   "codemirror_mode": {
    "name": "ipython",
    "version": 3
   },
   "file_extension": ".py",
   "mimetype": "text/x-python",
   "name": "python",
   "nbconvert_exporter": "python",
   "pygments_lexer": "ipython3",
   "version": "3.8.1"
  }
 },
 "nbformat": 4,
 "nbformat_minor": 4
}
