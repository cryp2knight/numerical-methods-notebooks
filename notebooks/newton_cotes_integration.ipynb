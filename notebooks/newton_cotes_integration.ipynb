{
 "cells": [
  {
   "cell_type": "markdown",
   "metadata": {},
   "source": [
    "## Trapezoidal rule"
   ]
  },
  {
   "cell_type": "code",
   "execution_count": 4,
   "metadata": {},
   "outputs": [],
   "source": [
    "import numpy as np\n",
    "import pandas as pd\n",
    "import matplotlib.pyplot as plt"
   ]
  },
  {
   "cell_type": "code",
   "execution_count": 234,
   "metadata": {},
   "outputs": [],
   "source": [
    "#for multiple segment  trapezoidal rule\n",
    "def trap(n, h, f):\n",
    "    \"\"\"\n",
    "    n  = no of trapezoids\n",
    "    h = (b - a) / n \n",
    "    where a is the lowerbound and b is the upperbound  for integrand\n",
    "    f = values of f(x)\n",
    "    \"\"\"\n",
    "    n = n+1\n",
    "    sum = f[0]\n",
    "    for i in range(1, n-1):\n",
    "        sum = sum + 2* f[i]\n",
    "    sum = sum + f[n-1]\n",
    "    return h*(sum/2)"
   ]
  },
  {
   "cell_type": "markdown",
   "metadata": {},
   "source": [
    "### example\n",
    "estimate the integral of $f(x)=0.2 + 25x- 200x^{2} + 675x^{3} - 900x^{4} + 400x^{5}$ from $x= 0$ to $0.8$. The exact value is $1.640533$. "
   ]
  },
  {
   "cell_type": "code",
   "execution_count": 81,
   "metadata": {},
   "outputs": [],
   "source": [
    "#f(x)\n",
    "f = lambda x: 0.2 + 25*x - 200*x**2 + 675*x**3 - 900*x**4 + 400*x**5\n",
    "h = lambda a,b,n: (b-a)/n"
   ]
  },
  {
   "cell_type": "code",
   "execution_count": 235,
   "metadata": {},
   "outputs": [
    {
     "data": {
      "text/plain": [
       "<matplotlib.lines.Line2D at 0xe46fb08>"
      ]
     },
     "execution_count": 235,
     "metadata": {},
     "output_type": "execute_result"
    },
    {
     "data": {
      "image/png": "[encoded data removed]",
      "text/plain": [
       "<Figure size 432x288 with 1 Axes>"
      ]
     },
     "metadata": {
      "needs_background": "light"
     },
     "output_type": "display_data"
    }
   ],
   "source": [
    "#graph of the function\n",
    "xs = np.linspace(0,1,100)\n",
    "ys = list(map(f, xs))\n",
    "plt.plot(xs,ys)\n",
    "plt.grid(True, which='both')\n",
    "plt.axvline(x=0, color='k')\n",
    "plt.axhline(y=0, color='k')"
   ]
  },
  {
   "cell_type": "code",
   "execution_count": 252,
   "metadata": {},
   "outputs": [
    {
     "data": {
      "text/html": [
       "<div>\n",
       "<style scoped>\n",
       "    .dataframe tbody tr th:only-of-type {\n",
       "        vertical-align: middle;\n",
       "    }\n",
       "\n",
       "    .dataframe tbody tr th {\n",
       "        vertical-align: top;\n",
       "    }\n",
       "\n",
       "    .dataframe thead th {\n",
       "        text-align: right;\n",
       "    }\n",
       "</style>\n",
       "<table border=\"1\" class=\"dataframe\">\n",
       "  <thead>\n",
       "    <tr style=\"text-align: right;\">\n",
       "      <th></th>\n",
       "      <th>0</th>\n",
       "      <th>1</th>\n",
       "    </tr>\n",
       "  </thead>\n",
       "  <tbody>\n",
       "    <tr>\n",
       "      <th>0</th>\n",
       "      <td>0.00</td>\n",
       "      <td>0.200000</td>\n",
       "    </tr>\n",
       "    <tr>\n",
       "      <th>1</th>\n",
       "      <td>0.08</td>\n",
       "      <td>1.230047</td>\n",
       "    </tr>\n",
       "    <tr>\n",
       "      <th>2</th>\n",
       "      <td>0.16</td>\n",
       "      <td>1.296919</td>\n",
       "    </tr>\n",
       "    <tr>\n",
       "      <th>3</th>\n",
       "      <td>0.24</td>\n",
       "      <td>1.343721</td>\n",
       "    </tr>\n",
       "    <tr>\n",
       "      <th>4</th>\n",
       "      <td>0.32</td>\n",
       "      <td>1.743393</td>\n",
       "    </tr>\n",
       "    <tr>\n",
       "      <th>5</th>\n",
       "      <td>0.40</td>\n",
       "      <td>2.456000</td>\n",
       "    </tr>\n",
       "    <tr>\n",
       "      <th>6</th>\n",
       "      <td>0.48</td>\n",
       "      <td>3.186015</td>\n",
       "    </tr>\n",
       "    <tr>\n",
       "      <th>7</th>\n",
       "      <td>0.56</td>\n",
       "      <td>3.539607</td>\n",
       "    </tr>\n",
       "    <tr>\n",
       "      <th>8</th>\n",
       "      <td>0.64</td>\n",
       "      <td>3.181929</td>\n",
       "    </tr>\n",
       "    <tr>\n",
       "      <th>9</th>\n",
       "      <td>0.72</td>\n",
       "      <td>1.994401</td>\n",
       "    </tr>\n",
       "    <tr>\n",
       "      <th>10</th>\n",
       "      <td>0.80</td>\n",
       "      <td>0.232000</td>\n",
       "    </tr>\n",
       "  </tbody>\n",
       "</table>\n",
       "</div>"
      ],
      "text/plain": [
       "       0         1\n",
       "0   0.00  0.200000\n",
       "1   0.08  1.230047\n",
       "2   0.16  1.296919\n",
       "3   0.24  1.343721\n",
       "4   0.32  1.743393\n",
       "5   0.40  2.456000\n",
       "6   0.48  3.186015\n",
       "7   0.56  3.539607\n",
       "8   0.64  3.181929\n",
       "9   0.72  1.994401\n",
       "10  0.80  0.232000"
      ]
     },
     "execution_count": 252,
     "metadata": {},
     "output_type": "execute_result"
    }
   ],
   "source": [
    "n = 10 # no of trpezoids\n",
    "a = 0 # lowerbound\n",
    "b = 0.8 #upperbound\n",
    "xx = [a] # values of xs\n",
    "h1 = h(a,b,n) \n",
    "for _ in range(n):\n",
    "    a = a + h1\n",
    "    xx.append(a)\n",
    "yy = list(map(f, xx))\n",
    "cc = list(map(lambda x,y: (x,y), xx,yy))\n",
    "pd.DataFrame(cc)"
   ]
  },
  {
   "cell_type": "code",
   "execution_count": 253,
   "metadata": {},
   "outputs": [
    {
     "data": {
      "text/plain": [
       "1.615042560000008"
      ]
     },
     "execution_count": 253,
     "metadata": {},
     "output_type": "execute_result"
    }
   ],
   "source": [
    "# estimated area under the curve\n",
    "trap(n, h(0, 0.8,n),yy)"
   ]
  },
  {
   "cell_type": "code",
   "execution_count": 254,
   "metadata": {},
   "outputs": [
    {
     "data": {
      "text/plain": [
       "<matplotlib.lines.Line2D at 0xe4f0dd8>"
      ]
     },
     "execution_count": 254,
     "metadata": {},
     "output_type": "execute_result"
    },
    {
     "data": {
      "image/png": "[encoded data removed]",
      "text/plain": [
       "<Figure size 432x288 with 1 Axes>"
      ]
     },
     "metadata": {
      "needs_background": "light"
     },
     "output_type": "display_data"
    }
   ],
   "source": [
    "xs = np.linspace(0,1,100)\n",
    "ys = list(map(f, xs))\n",
    "plt.plot(xs,ys)\n",
    "plt.scatter(xx,yy)\n",
    "plt.plot(xx,yy)\n",
    "plt.fill_between(xx,yy, hatch='X', alpha=0.3)\n",
    "plt.grid(True, which='both')\n",
    "plt.axvline(x=0, color='k')\n",
    "plt.axhline(y=0, color='k')"
   ]
  },
  {
   "cell_type": "markdown",
   "metadata": {},
   "source": [
    "# Simpson's Rules"
   ]
  },
  {
   "cell_type": "code",
   "execution_count": 255,
   "metadata": {},
   "outputs": [],
   "source": [
    "#multiple-applications of simpson's rule for both odd and even segments\n",
    "def simpsons(a,b, n, f):\n",
    "    h = (b-a)/n\n",
    "    sum = 0\n",
    "    if n == 1:\n",
    "        sum = h*(f[n-1]+f[n])/2\n",
    "    else:\n",
    "        m = n\n",
    "        odd = n%2 == 1\n",
    "        if odd and n>1:\n",
    "            sum = sum +  3*h*(f[n-3]+3*(f[n-2]+f[n-1])+f[n])/8\n",
    "            m = n - 3\n",
    "        if m > 1:\n",
    "            def simp13m(h,n,f):\n",
    "                sum1 = f[0]\n",
    "                for i in range(1, n-1, 2):\n",
    "                    sum1 = sum1 + 4*f[i]+2*f[i+1]\n",
    "                sum1 = sum1 + 4*f[n-1]+f[n]\n",
    "                return h* (sum1/3)\n",
    "            sum = sum + simp13m(h,m,f)\n",
    "    return sum      "
   ]
  },
  {
   "cell_type": "code",
   "execution_count": 257,
   "metadata": {},
   "outputs": [
    {
     "data": {
      "text/plain": [
       "1.6400964266666744"
      ]
     },
     "execution_count": 257,
     "metadata": {},
     "output_type": "execute_result"
    }
   ],
   "source": [
    "simpsons(0, 0.8, 10, yy)"
   ]
  }
 ],
 "metadata": {
  "kernelspec": {
   "display_name": "Python 3",
   "language": "python",
   "name": "python3"
  },
  "language_info": {
   "codemirror_mode": {
    "name": "ipython",
    "version": 3
   },
   "file_extension": ".py",
   "mimetype": "text/x-python",
   "name": "python",
   "nbconvert_exporter": "python",
   "pygments_lexer": "ipython3",
   "version": "3.8.1"
  }
 },
 "nbformat": 4,
 "nbformat_minor": 4
}
