{
 "cells": [
  {
   "cell_type": "markdown",
   "metadata": {},
   "source": [
    "# Calculation of Errors\n",
    "***\n",
    "\n",
    "## Error definitions\n",
    "\n",
    "Numerical errors arise from the use of approximations to represent exact mathematical operations and quantities. These include *truncation errors*, which result when approximations are used to represent exact mathematical procedures, and *round-off errors*, which result when numbers having limited significant figures are used to represent exact numbers. For both types, the relationship between the exact, or true, result and the approximation can be formulated as \n",
    "\n",
    "$$True\\space value = approximation + error$$\n",
    "\n",
    "<center>Eq. 3.1</center>\n",
    "\n",
    "By rearranging $Eq. (3.1)$, we find that the numerical error is equal to the discrepancy between the truth and the approximation, as in \n",
    "\n",
    "$$E_{t} = true\\space value - approximation$$\n",
    "\n",
    "<center>Eq. 3.2</center>\n",
    "\n",
    "where $E_{t}$ is used to designate the exact value of the error. The subscript $t$ is included to designate that this is the “true” error. This is in contrast to other cases, as described shortly, where an “approximate” estimate of the error must be employed. \n",
    "\n",
    "A shortcoming of this definition is that it takes no account of the order of magnitude of the value under examination. For example, an error of a centimeter is much more significant if we are measuring a rivet rather than a bridge. One way to account for the magnitudes of the quantities being evaluated is to normalize the error to the true value, as in\n",
    "\n",
    "$$True\\space fractional\\space relative\\space error = \\frac{true\\space error}{true\\space value}$$\n",
    "\n",
    "where, as specified by $Eq. (3.2)$, $error=true value - approximation$. The relative error can also be multiplied by $100 \\%$ to express it as\n",
    "\n",
    "$$\\epsilon_{t} = \\frac{true\\space error}{true\\space value}100\\%$$\n",
    "\n",
    "<center>Eq. 3.3</center>\n",
    "\n",
    "where $\\epsilon_{t}$ designates the true percent relative error. \n",
    "\n",
    "Notice that for $Eqs. (3.2)$ and $(3.3)$, $E$ and $\\epsilon$ are subscripted with a $t$ to signify that the error is normalized to the true value.\n",
    "\n",
    "For numerical methods, the true value will be known only when we deal with functions that can be solved analytically. Such will typically be the case when we investigate the theoretical behavior of a particular technique for simple systems. However, in real-world applications, we will obviously not know the true answer *a priori*. For these situations, an alternative is to normalize the error using the best available estimate of the true value, that is, to the approximation itself, as in\n",
    "\n",
    "$$\\epsilon_{a} = \\frac{approximate\\space error}{approximation}100\\%$$\n",
    "\n",
    "<center>Eq. 3.4</center>\n",
    "\n",
    "where the subscript $a$ signifies that the error is normalized to an approximate value. Note also that for real-world applications, $Eq. (3.2)$ cannot be used to calculate the error term for $Eq. (3.4)$. One of the challenges of numerical methods is to determine error estimates in the absence of knowledge regarding the true value. For example, certain numerical methods use an iterative approach to compute answers. In such an approach, a present approximation is made on the basis of a previous approximation. This process is performed repeatedly, or iteratively, to successively compute (we hope) better and better approximations. For such cases, the error is often estimated as the difference between previous and current approximations. Thus, percent relative error is determined according to\n",
    "\n",
    "\n",
    "$$\\epsilon_{a} = \\frac{current\\space approximation - previous\\space approximation}{current\\space approximation}100\\%$$\n",
    "\n",
    "<center>Eq. 3.5</center>"
   ]
  },
  {
   "cell_type": "markdown",
   "metadata": {},
   "source": [
    "# Error Estimates for Iterative Methods \n",
    "\n",
    "**Problem Statement.** In mathematics, functions can often be represented by infinite series. For example, the exponential function can be computed using\n",
    "\n",
    "$$ e^{x} = 1+x+\\frac{x^2}{2}+\\frac{x^3}{3!}+...\\frac{x^n}{n!}$$\n",
    "\n",
    "<center>Eq. 3.2.1</center>\n",
    "\n",
    "Thus, as more terms are added in sequence, the approximation becomes a better and better estimate of the true value of $e^{x}$. $Equation (E3.2.1)$ is called a *Maclaurin series expansion*. \n",
    "\n",
    "Starting with the simplest version, $e^{x}=1$, add terms one at a time to estimate $e^{0.5}$. After each new term is added, compute the true and approximate percent relative errors with $Eqs. (3.3)$ and $(3.5)$, respectively. Note that the true value is $e^{0.5}=1.648721....$ Add terms until the absolute value of the approximate error estimate $\\epsilon_{a}$ falls below a prespecified error criterion $\\epsilon_{s}$ conforming to three significant figures. \n"
   ]
  },
  {
   "cell_type": "code",
   "execution_count": 49,
   "metadata": {},
   "outputs": [
    {
     "name": "stdout",
     "output_type": "stream",
     "text": [
      "50.0 0.0005\n",
      "20.0 0.0005\n",
      "6.249999999999995 0.0005\n",
      "1.5384615384615332 0.0005\n",
      "0.30674846625766766 0.0005\n",
      "0.05109862033725888 0.0005\n",
      "0.007299270073000843 0.0005\n",
      "0.0009124004343056667 0.0005\n",
      "0.00010137772325217011 0.0005\n"
     ]
    },
    {
     "data": {
      "text/plain": [
       "[1.0,\n",
       " 2.0,\n",
       " 2.5,\n",
       " 2.6666666666666665,\n",
       " 2.708333333333333,\n",
       " 2.7166666666666663,\n",
       " 2.7180555555555554,\n",
       " 2.7182539682539684,\n",
       " 2.71827876984127,\n",
       " 2.7182815255731922]"
      ]
     },
     "execution_count": 49,
     "metadata": {},
     "output_type": "execute_result"
    }
   ],
   "source": [
    "import math as m\n",
    "\n",
    "def error_criterion(sig):\n",
    "    \"\"\"\n",
    "    this function requires the number of significant figures \n",
    "    for the error criterion\n",
    "    returns the percentage value\n",
    "    \"\"\"\n",
    "    return 0.5*(10**(2-sig))\n",
    "\n",
    "es = error_criterion(5)\n",
    "\n",
    "def percent_relative_error(prev, current):\n",
    "    return abs((current-prev)/current*100)\n",
    "\n",
    "def solve(x):\n",
    "    res = []\n",
    "    val = 0\n",
    "    n = 0\n",
    "    while True:\n",
    "        term = (x**n)/m.factorial(n) #the term of the series\n",
    "        val  += term #operation of the series\n",
    "        res.append(val)\n",
    "        if n > 0:\n",
    "            ea = percent_relative_error(res[n-1],res[n])\n",
    "            print(ea, es)\n",
    "            if ea < es:\n",
    "                break\n",
    "        n += 1\n",
    "    return res\n",
    "        \n",
    "solve(1)"
   ]
  }
 ],
 "metadata": {
  "kernelspec": {
   "display_name": "Python 3",
   "language": "python",
   "name": "python3"
  },
  "language_info": {
   "codemirror_mode": {
    "name": "ipython",
    "version": 3
   },
   "file_extension": ".py",
   "mimetype": "text/x-python",
   "name": "python",
   "nbconvert_exporter": "python",
   "pygments_lexer": "ipython3",
   "version": "3.8.1"
  }
 },
 "nbformat": 4,
 "nbformat_minor": 4
}
